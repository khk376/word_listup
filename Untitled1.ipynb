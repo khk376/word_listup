{
 "cells": [
  {
   "cell_type": "code",
   "execution_count": 1,
   "metadata": {},
   "outputs": [],
   "source": [
    "from konlpy.tag import Okt\n",
    "from collections import Counter\n",
    " \n",
    "def get_tags(text, ntags=50):\n",
    "    spliter = Okt()\n",
    "    # konlpy의 (구 Twitter) => Okt객체\n",
    "    nouns = spliter.nouns(text)\n",
    "    # nouns 함수를 통해서 text에서 명사만 분리/추출\n",
    "    count = Counter(nouns)\n",
    "    # Counter객체를 생성하고 참조변수 nouns할당\n",
    "    return_list = []  # 명사 빈도수 저장할 변수\n",
    "    for n, c in count.most_common(ntags):\n",
    "        temp = {'tag': n, 'count': c}\n",
    "        return_list.append(temp)\n",
    "    # most_common 메소드는 정수를 입력받아 객체 안의 명사중 빈도수\n",
    "    # 큰 명사부터 순서대로 입력받은 정수 갯수만큼 저장되어있는 객체 반환\n",
    "    # 명사와 사용된 갯수를 return_list에 저장\n",
    "    return return_list\n",
    " \n",
    " \n",
    "def main():\n",
    "    text_file_name = \"text.txt\"\n",
    "    # 분석할 파일\n",
    "    noun_count = 30\n",
    "    # 최대 많은 빈도수 부터 30개 명사 추출\n",
    "    output_file_name = \"boja.txt\"\n",
    "    # result.txt 에 저장\n",
    "    open_text_file = open(text_file_name, 'r',-1,\"utf-8\")\n",
    "    # 분석할 파일을 open \n",
    "    text = open_text_file.read() #파일 읽기\n",
    "    tags = get_tags(text, noun_count) # get_tags 함수 실행\n",
    "    open_text_file.close()   #파일 close\n",
    "    open_output_file = open(output_file_name, 'w',-1,\"utf-8\")\n",
    "    # 결과로 쓰일 result.txt 열기\n",
    "    for tag in tags:\n",
    "        noun = tag['tag']\n",
    "        count = tag['count']\n",
    "        open_output_file.write('{} {}\\n'.format(noun, count))\n",
    "    # 결과 저장\n",
    "    open_output_file.close() \n",
    " \n",
    "if __name__ == '__main__':\n",
    "    main()"
   ]
  }
 ],
 "metadata": {
  "kernelspec": {
   "display_name": "Python 3",
   "language": "python",
   "name": "python3"
  },
  "language_info": {
   "codemirror_mode": {
    "name": "ipython",
    "version": 3
   },
   "file_extension": ".py",
   "mimetype": "text/x-python",
   "name": "python",
   "nbconvert_exporter": "python",
   "pygments_lexer": "ipython3",
   "version": "3.7.2"
  }
 },
 "nbformat": 4,
 "nbformat_minor": 2
}
